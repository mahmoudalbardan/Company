{
 "cells": [
  {
   "cell_type": "code",
   "execution_count": 198,
   "id": "0379ea23",
   "metadata": {},
   "outputs": [],
   "source": [
    "import os\n",
    "import warnings\n",
    "import pandas as pd\n",
    "import numpy as np\n",
    "import matplotlib.pyplot as plt\n",
    "import seaborn as sns\n",
    "from IPython.display import display\n",
    "\n",
    "from sklearn.ensemble import RandomForestClassifier\n",
    "from sklearn.model_selection import StratifiedKFold, cross_val_predict\n",
    "from sklearn.metrics import confusion_matrix, ConfusionMatrixDisplay, roc_auc_score\n",
    "from sklearn.preprocessing import LabelEncoder\n",
    "\n",
    "warnings.filterwarnings(\"ignore\")\n",
    "pd.set_option('display.float_format', '{:.5f}'.format)\n",
    "\n",
    "DATA_DIRECTORY = \"data/objects/raw\""
   ]
  },
  {
   "cell_type": "code",
   "execution_count": 189,
   "id": "255376a3",
   "metadata": {},
   "outputs": [],
   "source": [
    "# Reading the parquet files\n",
    "def read_parquet_files(DATA_DIRECTORY):\n",
    "    list_of_df = []\n",
    "    for root, _, files in os.walk(DATA_DIRECTORY):\n",
    "        for file in files:\n",
    "            if file.endswith('.parquet'):\n",
    "                file_path = os.path.join(root, file)\n",
    "                df = pd.read_parquet(file_path,engine='pyarrow')\n",
    "                list_of_df.append(df)\n",
    "    combined_df = pd.concat(list_of_df)\n",
    "    return combined_df\n",
    "data = read_parquet_files(DATA_DIRECTORY)"
   ]
  },
  {
   "cell_type": "code",
   "execution_count": 190,
   "id": "a93c56c4",
   "metadata": {},
   "outputs": [
    {
     "name": "stdout",
     "output_type": "stream",
     "text": [
      "<class 'pandas.core.frame.DataFrame'>\n",
      "Int64Index: 16647945 entries, 0 to 2416224\n",
      "Data columns (total 17 columns):\n",
      " #   Column      Dtype         \n",
      "---  ------      -----         \n",
      " 0   timestamp   datetime64[ns]\n",
      " 1   id          int32         \n",
      " 2   label       category      \n",
      " 3   tracking    category      \n",
      " 4   confidence  float16       \n",
      " 5   pos_x       float16       \n",
      " 6   pos_y       float16       \n",
      " 7   pos_z       float16       \n",
      " 8   size_x      float16       \n",
      " 9   size_y      float16       \n",
      " 10  size_z      float16       \n",
      " 11  vel_x       float16       \n",
      " 12  vel_y       float16       \n",
      " 13  vel_z       float16       \n",
      " 14  yaw         float16       \n",
      " 15  yaw_rate    float16       \n",
      " 16  points_n    int16         \n",
      "dtypes: category(2), datetime64[ns](1), float16(12), int16(1), int32(1)\n",
      "memory usage: 762.1 MB\n"
     ]
    },
    {
     "data": {
      "text/plain": [
       "None"
      ]
     },
     "metadata": {},
     "output_type": "display_data"
    },
    {
     "name": "stdout",
     "output_type": "stream",
     "text": [
      "There is 0 nans in the dataset\n",
      "\n",
      "Without any cleaning or processing, the total number of objects at the intersection between 11am and 1pm on Monday 14 Octobre 2024 is: 133885 \n"
     ]
    }
   ],
   "source": [
    "# check data types and info\n",
    "display(data.info())\n",
    "\n",
    "# check nan \n",
    "print(\"\"\"There is {n_nan} nans in the dataset\\n\"\"\".format(n_nan=data.isna().sum().sum()))\n",
    "\n",
    "# total number of objects without any cleaning or processing at the intersection\n",
    "print(\"\"\"Without any cleaning or processing, the total number of objects at the intersection between 11am and 1pm on Monday 14 Octobre 2024 is: {nb_objects} \"\"\".\n",
    "      format(nb_objects = data[\"id\"].nunique()))"
   ]
  },
  {
   "cell_type": "markdown",
   "id": "d16f391a",
   "metadata": {},
   "source": [
    "**Insights**\n",
    "\n",
    "1. There is zero nans in the dataset\n",
    "\n",
    "\n",
    "2. Without any cleaning or processing, the total number of objects at the intersection between 11am and 1pm on Monday 14 Octobre 2024 is  133885 \n",
    "\n",
    "\n",
    "3. The number of distinct objects (id) at the intersection is 133885 during 2 hours which is very high since objects we are interested in are pedestrians, cars and cyclists. This might be caused by multiple type of factors:environment might affect sensors, occlusions, reflexions, shadows ... that leads to detect non valid objects. To that end, before doing analytical study of the different variables describing objects, we need to split the object ids into **valid** and **not valid(to be removed)**. To decide which ones are valid we set two filters: the first one is based on **time stay (duration of detection of an object)** and the second one is based on the **maximal detected velocity of the object**."
   ]
  },
  {
   "cell_type": "markdown",
   "id": "e0b0d69c",
   "metadata": {},
   "source": [
    "# Splitting data objects into valid and not valid"
   ]
  },
  {
   "cell_type": "code",
   "execution_count": 191,
   "id": "33680c1a",
   "metadata": {},
   "outputs": [
    {
     "data": {
      "image/png": "[encoded data removed]",
      "text/plain": [
       "<Figure size 1296x288 with 2 Axes>"
      ]
     },
     "metadata": {
      "needs_background": "light"
     },
     "output_type": "display_data"
    }
   ],
   "source": [
    "# histogram plots of time delta and velocity before any filtering\n",
    "timedelta_df = data.groupby(\"id\")[\"timestamp\"].agg([min, max]).reset_index()\n",
    "timedelta_df[\"timedelta\"] = timedelta_df[\"max\"] - timedelta_df[\"min\"]\n",
    "timedelta_df[\"timedelta_seconds\"] = timedelta_df[\"timedelta\"].dt.total_seconds()\n",
    "\n",
    "data[\"velocity\"] = np.sqrt(data[\"vel_x\"]**2 + data[\"vel_y\"]**2 +data[\"vel_z\"]**2)\n",
    "df_velocity = data.groupby(\"id\")[\"velocity\"].agg([np.max]).reset_index()\n",
    "df_velocity.columns=  [\"id\",\"max_velocity\"]\n",
    "\n",
    "fig, ax = plt.subplots(nrows=1, ncols=2, figsize=(18, 4))\n",
    "sns.histplot(timedelta_df, x=\"timedelta_seconds\",ax=ax[0], bins=\"auto\")\n",
    "sns.histplot(df_velocity, x=\"max_velocity\",ax=ax[1], bins=60)\n",
    "ax[0].set_title(\"Timedelta in seconds\") \n",
    "ax[1].set_title(\"Maximal velocity per detected of objects in m/s\") \n",
    "plt.tight_layout()\n",
    "plt.show()"
   ]
  },
  {
   "cell_type": "markdown",
   "id": "aac54d15",
   "metadata": {},
   "source": [
    "## Filtering on objects based on duration and speed\n",
    "\n",
    "* We have to remove objects that do not respect a lower and an upper threshold of time stay in the intersection\n",
    "they might be outlier or stationary objects. We set two thresholds: \n",
    "    1. Maximal time stay is **20 minutes** which is could be represent traffic jam (for cars). We consider that a pedestrian or a cyclist will not stay more than 20 minutes also at an intersection unless there is a bus station ..\n",
    "    \n",
    "    2. Minimum time stay is around **10 seconds** which corresponds to the duration that a car will take to pass 140 m  at 50km/h (which is the maximal speed authorized in urban areas). The replay shows that 10 second is an acceptable threshold to set the minimum time of stay an object in the intersection.\n",
    "\n",
    "\n",
    "* We want have to remove objects whose **maximal detected speed is less than 1 m/s** which corresponds to the speed of human being while walking which is the slowest valid object that we can have on the road in our situation. The velocity is calculated using this formula: \n",
    "\n",
    "                            velocity = √(vel_x² + vel_y² + vel_z²)"
   ]
  },
  {
   "cell_type": "code",
   "execution_count": 192,
   "id": "ee00a53c",
   "metadata": {},
   "outputs": [
    {
     "name": "stdout",
     "output_type": "stream",
     "text": [
      "After applying two filters on the data, the total number of objects at the intersection between 11am and 1pm on Monday 14 Octobre 2024 is: 25222 \n"
     ]
    }
   ],
   "source": [
    "list_objects_to_be_removed = []\n",
    "# removing objects according to their time stay\n",
    "max_duration = 1200  \n",
    "min_duration = 10 \n",
    "selected_ids_time_stay = timedelta_df[(timedelta_df['timedelta_seconds'] < max_duration) &\\\n",
    "(timedelta_df['timedelta_seconds'] > min_duration)][\"id\"].values.tolist()\n",
    "list_objects_to_be_removed.append(data[~data[\"id\"].isin(selected_ids_time_stay)])\n",
    "data = data[data[\"id\"].isin(selected_ids_time_stay)]\n",
    "\n",
    "# removing objects according to their speed\n",
    "selected_ids_speed = df_velocity[df_velocity['max_velocity'] > 1][\"id\"].values.tolist()\n",
    "list_objects_to_be_removed.append(data[~data[\"id\"].isin(selected_ids_speed)])\n",
    "data = data[data[\"id\"].isin(selected_ids_speed)]\n",
    "\n",
    "df_to_be_removed = pd.concat(list_objects_to_be_removed).reset_index(drop=True)\n",
    "\n",
    "# total number of objects without any cleaning or processing at the intersection\n",
    "print(\"\"\"After applying two filters on the data, the total number of objects at the intersection between 11am and 1pm on Monday 14 Octobre 2024 is: {nb_objects} \"\"\".\n",
    "      format(nb_objects = data[\"id\"].nunique()))"
   ]
  },
  {
   "cell_type": "markdown",
   "id": "86bf3b96",
   "metadata": {},
   "source": [
    "## EDA of non valid objects"
   ]
  },
  {
   "cell_type": "code",
   "execution_count": 150,
   "id": "e06cc004",
   "metadata": {},
   "outputs": [
    {
     "data": {
      "text/plain": [
       "LABEL_MISC         62.21161\n",
       "LABEL_CAR          24.67353\n",
       "LABEL_PEDESTRIAN   11.62493\n",
       "LABEL_CYCLIST       1.48993\n",
       "Name: label, dtype: float64"
      ]
     },
     "metadata": {},
     "output_type": "display_data"
    }
   ],
   "source": [
    "def unify_labels_for_same_object(df):\n",
    "    try:\n",
    "        # based on confidence value, > 0.8\n",
    "        label = df.loc[df[df[\"confidence\"]>0.8].index,\"label\"].unique()[0] \n",
    "    except:\n",
    "        # based on mode\n",
    "        label = df[\"label\"].mode()[0]\n",
    "    df[\"label\"] = label\n",
    "    return df\n",
    "\n",
    "list_df_id_label= [unify_labels_for_same_object(df) for _,df in df_to_be_removed.groupby(\"id\")]\n",
    "df_to_be_removed = pd.concat(list_df_id_label).reset_index(drop=True)\n",
    "label_proportions_to_be_removed = df_to_be_removed.groupby('id')['label'].value_counts(normalize=True).index    \n",
    "label_proportions_to_be_removed = pd.DataFrame(label_proportions_to_be_removed.values.tolist(),\n",
    "                                 columns=[\"id\",\"label\"])[\"label\"].value_counts(normalize=True)*100\n",
    "display(label_proportions_to_be_removed)"
   ]
  },
  {
   "cell_type": "markdown",
   "id": "81c2f510",
   "metadata": {},
   "source": [
    "# Dealing with valid objects\n",
    "After applying two filters on the data, the total number of objects at the intersection between 11am and 1pm on Monday 14 Octobre 2024 is: 25222"
   ]
  },
  {
   "cell_type": "markdown",
   "id": "e68bba5d",
   "metadata": {},
   "source": [
    "## Insights and observations on categorical variables\n",
    "* **Some objects has more than one label in the dataframe**. To handle this issue, for each id, we set two rules:\n",
    "    1. Get the label with the confidence level that is greater than 0.8\n",
    "    2. If no label has a confidence label greater than 0.8, take the mode of the all labels of the same id\n",
    "\n"
   ]
  },
  {
   "cell_type": "code",
   "execution_count": 193,
   "id": "d6783762",
   "metadata": {},
   "outputs": [],
   "source": [
    "def unify_labels_for_same_object(df):\n",
    "    try:\n",
    "        # based on confidence value, > 0.8\n",
    "        label = df.loc[df[df[\"confidence\"]>0.8].index,\"label\"].unique()[0] \n",
    "    except:\n",
    "        # based on mode\n",
    "        label = df[\"label\"].mode()[0]\n",
    "    df[\"label\"] = label\n",
    "    return df\n",
    "\n",
    "list_df_id_label= [unify_labels_for_same_object(df) for _,df in data.groupby(\"id\")]\n",
    "data = pd.concat(list_df_id_label).reset_index(drop=True)"
   ]
  },
  {
   "cell_type": "code",
   "execution_count": 194,
   "id": "f6ce4d2f",
   "metadata": {},
   "outputs": [
    {
     "name": "stdout",
     "output_type": "stream",
     "text": [
      "Unique values in tracking: ['TRACKING', 'DRIFTING']\n"
     ]
    },
    {
     "data": {
      "text/plain": [
       "LABEL_CAR          60.60979\n",
       "LABEL_PEDESTRIAN   22.44073\n",
       "LABEL_MISC         13.66664\n",
       "LABEL_CYCLIST       3.28285\n",
       "Name: label, dtype: float64"
      ]
     },
     "metadata": {},
     "output_type": "display_data"
    },
    {
     "data": {
      "text/plain": [
       "TRACKING   93.21564\n",
       "DRIFTING    6.78436\n",
       "Name: tracking, dtype: float64"
      ]
     },
     "metadata": {},
     "output_type": "display_data"
    },
    {
     "data": {
      "image/png": "[encoded data removed]",
      "text/plain": [
       "<Figure size 1008x432 with 2 Axes>"
      ]
     },
     "metadata": {
      "needs_background": "light"
     },
     "output_type": "display_data"
    }
   ],
   "source": [
    "# checking possible values of categorical variables \n",
    "for col in data.select_dtypes(include='category'):\n",
    "    print(\"Unique values in {col}: {values}\".format(col=col, values= data[col].unique().tolist()))\n",
    "    \n",
    "# computing relative frequency of each possible value for label and tracking type\n",
    "label_proportions = data.groupby('id')['label'].value_counts(normalize=True).index    \n",
    "label_proportions = pd.DataFrame(label_proportions.values.tolist(),\n",
    "                                 columns=[\"id\",\"label\"])[\"label\"].value_counts(normalize=True)*100\n",
    "tracking_type_proportions = data['tracking'].value_counts(normalize=True)*100\n",
    "display(label_proportions)\n",
    "display(tracking_type_proportions)\n",
    "\n",
    "# creating barcharts for label and tracking\n",
    "fig, axes = plt.subplots(1, 2, figsize=(14, 6), sharey=True)\n",
    "label_proportions.plot(kind='bar', color=['skyblue', 'orange', 'green', 'red'], ax=axes[0])\n",
    "axes[0].set_title('Proportion of each label', fontsize=16)\n",
    "axes[0].set_xlabel('Label', fontsize=14)\n",
    "axes[0].set_ylabel('Frequency', fontsize=14)\n",
    "axes[0].tick_params(axis='x', rotation=45)\n",
    "axes[0].grid(axis='y', linestyle='--', alpha=0.7)\n",
    "\n",
    "tracking_type_proportions.plot(kind='bar', color=['green', 'red'], ax=axes[1])\n",
    "axes[1].set_title('Proportion of each tracking type', fontsize=16)\n",
    "axes[1].set_xlabel('Tracking type', fontsize=14)\n",
    "axes[1].set_ylabel('Frequency', fontsize=14)\n",
    "axes[1].tick_params(axis='x', rotation=45)\n",
    "axes[1].grid(axis='y', linestyle='--', alpha=0.7)\n",
    "\n",
    "plt.tight_layout()\n",
    "plt.show()"
   ]
  },
  {
   "cell_type": "markdown",
   "id": "8ecdf64f",
   "metadata": {},
   "source": [
    "**Approximately 13% of the labels correspond to unspecified objects**, which is a significant proportion. In order to estimate the label, we will construct a classifier (*RandomForestClassifier*) that predicts whether it is a car, pedestrian or cyclist based on the *size*, *velocity* and *points_n* of the object. The classifier will be trained only on observations where label is  car, pedestrian or cyclist.\n",
    "\n",
    "**But first we have to explore numerical variables that will be used as features during model training.**"
   ]
  },
  {
   "cell_type": "markdown",
   "id": "066b7e45",
   "metadata": {},
   "source": [
    "## Exploratory Data Analysis for numerical variables"
   ]
  },
  {
   "cell_type": "code",
   "execution_count": 195,
   "id": "12c32762",
   "metadata": {},
   "outputs": [
    {
     "data": {
      "text/html": [
       "<div>\n",
       "<style scoped>\n",
       "    .dataframe tbody tr th:only-of-type {\n",
       "        vertical-align: middle;\n",
       "    }\n",
       "\n",
       "    .dataframe tbody tr th {\n",
       "        vertical-align: top;\n",
       "    }\n",
       "\n",
       "    .dataframe thead th {\n",
       "        text-align: right;\n",
       "    }\n",
       "</style>\n",
       "<table border=\"1\" class=\"dataframe\">\n",
       "  <thead>\n",
       "    <tr style=\"text-align: right;\">\n",
       "      <th></th>\n",
       "      <th>id</th>\n",
       "      <th>confidence</th>\n",
       "      <th>pos_x</th>\n",
       "      <th>pos_y</th>\n",
       "      <th>pos_z</th>\n",
       "      <th>size_x</th>\n",
       "      <th>size_y</th>\n",
       "      <th>size_z</th>\n",
       "      <th>vel_x</th>\n",
       "      <th>vel_y</th>\n",
       "      <th>vel_z</th>\n",
       "      <th>yaw</th>\n",
       "      <th>yaw_rate</th>\n",
       "      <th>points_n</th>\n",
       "      <th>velocity</th>\n",
       "    </tr>\n",
       "  </thead>\n",
       "  <tbody>\n",
       "    <tr>\n",
       "      <th>count</th>\n",
       "      <td>8109766.00000</td>\n",
       "      <td>8109766.00000</td>\n",
       "      <td>8109766.00000</td>\n",
       "      <td>8109766.00000</td>\n",
       "      <td>8109766.00000</td>\n",
       "      <td>8109766.00000</td>\n",
       "      <td>8109766.00000</td>\n",
       "      <td>8109766.00000</td>\n",
       "      <td>8109766.00000</td>\n",
       "      <td>8109766.00000</td>\n",
       "      <td>8109766.00000</td>\n",
       "      <td>8109766.00000</td>\n",
       "      <td>8109766.00000</td>\n",
       "      <td>8109766.00000</td>\n",
       "      <td>8109766.00000</td>\n",
       "    </tr>\n",
       "    <tr>\n",
       "      <th>mean</th>\n",
       "      <td>1776510.40800</td>\n",
       "      <td>NaN</td>\n",
       "      <td>NaN</td>\n",
       "      <td>NaN</td>\n",
       "      <td>NaN</td>\n",
       "      <td>NaN</td>\n",
       "      <td>NaN</td>\n",
       "      <td>NaN</td>\n",
       "      <td>NaN</td>\n",
       "      <td>NaN</td>\n",
       "      <td>0.00000</td>\n",
       "      <td>NaN</td>\n",
       "      <td>NaN</td>\n",
       "      <td>170.39343</td>\n",
       "      <td>NaN</td>\n",
       "    </tr>\n",
       "    <tr>\n",
       "      <th>std</th>\n",
       "      <td>160658.21540</td>\n",
       "      <td>0.00000</td>\n",
       "      <td>0.00000</td>\n",
       "      <td>0.00000</td>\n",
       "      <td>0.00000</td>\n",
       "      <td>0.00000</td>\n",
       "      <td>0.00000</td>\n",
       "      <td>0.00000</td>\n",
       "      <td>0.00000</td>\n",
       "      <td>0.00000</td>\n",
       "      <td>0.00000</td>\n",
       "      <td>0.00000</td>\n",
       "      <td>0.00000</td>\n",
       "      <td>319.48243</td>\n",
       "      <td>0.00000</td>\n",
       "    </tr>\n",
       "    <tr>\n",
       "      <th>min</th>\n",
       "      <td>1477200.00000</td>\n",
       "      <td>0.10999</td>\n",
       "      <td>-166.25000</td>\n",
       "      <td>-122.68750</td>\n",
       "      <td>0.00000</td>\n",
       "      <td>0.00000</td>\n",
       "      <td>0.00000</td>\n",
       "      <td>0.00000</td>\n",
       "      <td>-98.62500</td>\n",
       "      <td>-73.62500</td>\n",
       "      <td>0.00000</td>\n",
       "      <td>0.00000</td>\n",
       "      <td>-6.28125</td>\n",
       "      <td>0.00000</td>\n",
       "      <td>0.00000</td>\n",
       "    </tr>\n",
       "    <tr>\n",
       "      <th>25%</th>\n",
       "      <td>1635421.00000</td>\n",
       "      <td>0.50000</td>\n",
       "      <td>-44.00000</td>\n",
       "      <td>-32.28125</td>\n",
       "      <td>0.00000</td>\n",
       "      <td>0.66992</td>\n",
       "      <td>0.43994</td>\n",
       "      <td>0.75000</td>\n",
       "      <td>-0.97998</td>\n",
       "      <td>-0.08002</td>\n",
       "      <td>0.00000</td>\n",
       "      <td>2.70508</td>\n",
       "      <td>-0.03000</td>\n",
       "      <td>18.00000</td>\n",
       "      <td>0.03000</td>\n",
       "    </tr>\n",
       "    <tr>\n",
       "      <th>50%</th>\n",
       "      <td>1782065.00000</td>\n",
       "      <td>0.81982</td>\n",
       "      <td>-24.12500</td>\n",
       "      <td>-19.59375</td>\n",
       "      <td>0.00000</td>\n",
       "      <td>3.98047</td>\n",
       "      <td>1.82031</td>\n",
       "      <td>1.45020</td>\n",
       "      <td>-0.02000</td>\n",
       "      <td>-0.00000</td>\n",
       "      <td>0.00000</td>\n",
       "      <td>3.15430</td>\n",
       "      <td>0.00000</td>\n",
       "      <td>57.00000</td>\n",
       "      <td>0.33521</td>\n",
       "    </tr>\n",
       "    <tr>\n",
       "      <th>75%</th>\n",
       "      <td>1914671.00000</td>\n",
       "      <td>0.95020</td>\n",
       "      <td>20.89062</td>\n",
       "      <td>-5.67188</td>\n",
       "      <td>0.00000</td>\n",
       "      <td>4.55859</td>\n",
       "      <td>1.95996</td>\n",
       "      <td>1.79980</td>\n",
       "      <td>0.03000</td>\n",
       "      <td>0.03000</td>\n",
       "      <td>0.00000</td>\n",
       "      <td>4.39844</td>\n",
       "      <td>0.01000</td>\n",
       "      <td>213.00000</td>\n",
       "      <td>1.94238</td>\n",
       "    </tr>\n",
       "    <tr>\n",
       "      <th>max</th>\n",
       "      <td>2046920.00000</td>\n",
       "      <td>1.95996</td>\n",
       "      <td>113.06250</td>\n",
       "      <td>71.50000</td>\n",
       "      <td>3.42969</td>\n",
       "      <td>21.20312</td>\n",
       "      <td>20.95312</td>\n",
       "      <td>3.50000</td>\n",
       "      <td>45.09375</td>\n",
       "      <td>70.56250</td>\n",
       "      <td>0.00000</td>\n",
       "      <td>6.28125</td>\n",
       "      <td>6.28125</td>\n",
       "      <td>11625.00000</td>\n",
       "      <td>98.68750</td>\n",
       "    </tr>\n",
       "  </tbody>\n",
       "</table>\n",
       "</div>"
      ],
      "text/plain": [
       "                 id    confidence         pos_x         pos_y         pos_z  \\\n",
       "count 8109766.00000 8109766.00000 8109766.00000 8109766.00000 8109766.00000   \n",
       "mean  1776510.40800           NaN           NaN           NaN           NaN   \n",
       "std    160658.21540       0.00000       0.00000       0.00000       0.00000   \n",
       "min   1477200.00000       0.10999    -166.25000    -122.68750       0.00000   \n",
       "25%   1635421.00000       0.50000     -44.00000     -32.28125       0.00000   \n",
       "50%   1782065.00000       0.81982     -24.12500     -19.59375       0.00000   \n",
       "75%   1914671.00000       0.95020      20.89062      -5.67188       0.00000   \n",
       "max   2046920.00000       1.95996     113.06250      71.50000       3.42969   \n",
       "\n",
       "             size_x        size_y        size_z         vel_x         vel_y  \\\n",
       "count 8109766.00000 8109766.00000 8109766.00000 8109766.00000 8109766.00000   \n",
       "mean            NaN           NaN           NaN           NaN           NaN   \n",
       "std         0.00000       0.00000       0.00000       0.00000       0.00000   \n",
       "min         0.00000       0.00000       0.00000     -98.62500     -73.62500   \n",
       "25%         0.66992       0.43994       0.75000      -0.97998      -0.08002   \n",
       "50%         3.98047       1.82031       1.45020      -0.02000      -0.00000   \n",
       "75%         4.55859       1.95996       1.79980       0.03000       0.03000   \n",
       "max        21.20312      20.95312       3.50000      45.09375      70.56250   \n",
       "\n",
       "              vel_z           yaw      yaw_rate      points_n      velocity  \n",
       "count 8109766.00000 8109766.00000 8109766.00000 8109766.00000 8109766.00000  \n",
       "mean        0.00000           NaN           NaN     170.39343           NaN  \n",
       "std         0.00000       0.00000       0.00000     319.48243       0.00000  \n",
       "min         0.00000       0.00000      -6.28125       0.00000       0.00000  \n",
       "25%         0.00000       2.70508      -0.03000      18.00000       0.03000  \n",
       "50%         0.00000       3.15430       0.00000      57.00000       0.33521  \n",
       "75%         0.00000       4.39844       0.01000     213.00000       1.94238  \n",
       "max         0.00000       6.28125       6.28125   11625.00000      98.68750  "
      ]
     },
     "metadata": {},
     "output_type": "display_data"
    }
   ],
   "source": [
    "# describe to get some stats about numerical variables\n",
    "df_describe = data.describe()\n",
    "numerical_columns = [col for col in df_describe.columns if col != \"id\"]\n",
    "display(df_describe)"
   ]
  },
  {
   "cell_type": "code",
   "execution_count": 196,
   "id": "927770e8",
   "metadata": {},
   "outputs": [],
   "source": [
    "def plot_histograms(data,numerical_columns):\n",
    "    # histogram of numerical variables for each label (cars, pedestrian, cyclist)\n",
    "    possible_labels = data[\"label\"].unique()\n",
    "    colors = ['orange', 'green', 'skyblue','red']\n",
    "    for i, num_col in enumerate(numerical_columns):\n",
    "        fig, axes = plt.subplots(nrows=1, ncols=len(possible_labels), figsize=(18, 5))\n",
    "        for j, label in enumerate(possible_labels):\n",
    "            subset = data[data[\"label\"] == label]     \n",
    "            sns.histplot(subset, x=num_col, kde=True, ax=axes[j], color=colors[j], bins=40)\n",
    "            axes[j].set_title(\"{num_col} - {label}\".format(num_col=num_col,label=label))\n",
    "\n",
    "    plt.tight_layout()\n",
    "    plt.show()\n",
    "    \n",
    "def plot_boxplots(data,numerical_columns):\n",
    "    # boxplots of numerical variables for each label (MISC, cars, pedestrian, cyclist)\n",
    "    possible_labels = data[\"label\"].unique()\n",
    "    colors = ['orange', 'green', 'skyblue','red']\n",
    "    for i, num_col in enumerate(numerical_columns):\n",
    "        fig, axes = plt.subplots(nrows=1, ncols=len(possible_labels), figsize=(18, 5))\n",
    "        for j, label in enumerate(possible_labels):\n",
    "            subset = data[data[\"label\"] == label]\n",
    "            sns.boxplot(data=subset, y=num_col, ax=axes[j], color=colors[j],whis=10)\n",
    "            axes[j].set_title(\"{num_col} - {label}\".format(num_col=num_col,label=label))\n",
    "    plt.tight_layout()\n",
    "    plt.show()\n",
    "    \n",
    "    \n",
    "numerical_columns = [\"size_x\",\"size_y\",\"size_z\",\"vel_x\",\"vel_y\",\"vel_z\",\"yaw\",\"yaw_rate\"]\n",
    "# hist plots and box plots\n",
    "plot=False # set to false to avoid plotting when testing\n",
    "if plot:\n",
    "    plot_histograms(data,numerical_columns)\n",
    "    plot_boxplots(data,numerical_columns)"
   ]
  },
  {
   "cell_type": "markdown",
   "id": "0c62be31",
   "metadata": {},
   "source": [
    "### Insights on Numerical Variables\n",
    "\n",
    "1. Some values of `confidence` are greater than 1. These should be capped at 1, as confidence values typically range from 0 to 1.\n",
    "\n",
    "2. `pos_x` and `pos_y` appear to represent the coordinates of objects within the intersection. The values are both negative and positive, indicating that the objects are distributed around the origin. Some `pos_z` values are not zero.They might be outliers since the objects are expected to be on the ground.\n",
    "\n",
    "3. Some values in `size_x`, `size_y` and `size_z` are abnormal specially for pedestrians and cyclists. If the label is correct (e.g. Pedestrian, cyclist or car) we can detect them using IQR (interquartile range) method then replace them with the median of each distribution. \n",
    "\n",
    "4. No specific remarks on `vel_x` and `vel_y` as they are centered around zero, which is normal for an intersection where objects runs at opposite directions. `vel_z` is always zero as expected. The unit is `m/s`. \n",
    "\n",
    "5. The distribution of `yaw` is expected to be like this. Values close to 0 and 6.28 correspond to 0° and 360° (the same direction), values around 3.14  correspond to the opposite direction (180° or π), and values near 1.5 and 4.71 (π/2 and 3π/2) correspond to standard turns (90° and 270°)."
   ]
  },
  {
   "cell_type": "markdown",
   "id": "7f3f461c",
   "metadata": {},
   "source": [
    "### Detecting and Replacing Outliers with the Median \n",
    "Each label (car, pedestrian, cyclist) has been handled separately. InterQuartile Range method is used to detect outliers."
   ]
  },
  {
   "cell_type": "code",
   "execution_count": 197,
   "id": "ce123724",
   "metadata": {},
   "outputs": [],
   "source": [
    "def replace_outliers(data_object,variables_to_handle):\n",
    "    for col in variables_to_handle:\n",
    "        Q1 = data_object[col].quantile(0.25)\n",
    "        Q3 = data_object[col].quantile(0.75)\n",
    "        IQR = Q3 - Q1\n",
    "        coefficient = 3\n",
    "        lower_bound = Q1-coefficient*IQR\n",
    "        upper_bound = Q3+coefficient*IQR\n",
    "        median_value = data_object[col].median()\n",
    "        data_object.loc[:,col] = data_object.loc[:,col].apply(lambda x: median_value \n",
    "                                                  if x < lower_bound or x > upper_bound else x)\n",
    "    return data_object\n",
    "\n",
    "data[\"confidence\"] = data[\"confidence\"].clip(lower= 0, upper=1) # cap confidence level to 1\n",
    "data[\"pos_z\"] = 0 # set pos_z to 0\n",
    "data[\"vel_z\"] = 0 # set vel_z to 0\n",
    "\n",
    "data_misc = data[data[\"label\"] == \"LABEL_MISC\"]\n",
    "data_pred = data[data[\"label\"] == \"LABEL_PEDESTRIAN\"]\n",
    "data_car = data[data[\"label\"] == \"LABEL_CAR\"]\n",
    "data_cyclist = data[data[\"label\"] == \"LABEL_CYCLIST\"]\n",
    "\n",
    "variables_to_handle = [\"size_x\",\"size_y\",\"size_z\",\"vel_x\",\"vel_y\"]\n",
    "\n",
    "list_data_objects = []\n",
    "for data_object in [data_pred,data_car, data_cyclist]:\n",
    "    list_data_objects.append(replace_outliers(data_object,variables_to_handle))\n",
    "list_data_objects.append(data_misc)\n",
    "\n",
    "data = pd.concat(list_data_objects).reset_index(drop=True)\n",
    "plot=False # set to false to avoid plotting when testing\n",
    "if plot:\n",
    "    plot_histograms(data,numerical_columns)"
   ]
  },
  {
   "cell_type": "markdown",
   "id": "43ee1c8b",
   "metadata": {},
   "source": [
    "### Building the model\n",
    "In order to estimate the label, we will construct a classifier (*RandomForestClassifier*) that predicts whether it is a car, pedestrian or cyclist based on the *size*, *velocity* and *points_n* of the object.\n",
    "\n",
    "When building the model we should take into consideration that the dataset is **imbalanced**, (**among non miscellaneous** objects 70% of objects are cars, 26% are pedestrian and 4% are cyclists). To that end, we set the **class_weight parameter to \"balanced\"** in random forest classifier and we use **stratified kfold validation** in order to respect target distribution in each fold split."
   ]
  },
  {
   "cell_type": "code",
   "execution_count": 201,
   "id": "7d740083",
   "metadata": {},
   "outputs": [
    {
     "name": "stdout",
     "output_type": "stream",
     "text": [
      "AUC-ROC (macro average): 0.9984029090526237\n"
     ]
    },
    {
     "data": {
      "image/png": "[encoded data removed]",
      "text/plain": [
       "<Figure size 432x288 with 2 Axes>"
      ]
     },
     "metadata": {
      "needs_background": "light"
     },
     "output_type": "display_data"
    },
    {
     "data": {
      "text/html": [
       "<style>#sk-container-id-2 {color: black;background-color: white;}#sk-container-id-2 pre{padding: 0;}#sk-container-id-2 div.sk-toggleable {background-color: white;}#sk-container-id-2 label.sk-toggleable__label {cursor: pointer;display: block;width: 100%;margin-bottom: 0;padding: 0.3em;box-sizing: border-box;text-align: center;}#sk-container-id-2 label.sk-toggleable__label-arrow:before {content: \"▸\";float: left;margin-right: 0.25em;color: #696969;}#sk-container-id-2 label.sk-toggleable__label-arrow:hover:before {color: black;}#sk-container-id-2 div.sk-estimator:hover label.sk-toggleable__label-arrow:before {color: black;}#sk-container-id-2 div.sk-toggleable__content {max-height: 0;max-width: 0;overflow: hidden;text-align: left;background-color: #f0f8ff;}#sk-container-id-2 div.sk-toggleable__content pre {margin: 0.2em;color: black;border-radius: 0.25em;background-color: #f0f8ff;}#sk-container-id-2 input.sk-toggleable__control:checked~div.sk-toggleable__content {max-height: 200px;max-width: 100%;overflow: auto;}#sk-container-id-2 input.sk-toggleable__control:checked~label.sk-toggleable__label-arrow:before {content: \"▾\";}#sk-container-id-2 div.sk-estimator input.sk-toggleable__control:checked~label.sk-toggleable__label {background-color: #d4ebff;}#sk-container-id-2 div.sk-label input.sk-toggleable__control:checked~label.sk-toggleable__label {background-color: #d4ebff;}#sk-container-id-2 input.sk-hidden--visually {border: 0;clip: rect(1px 1px 1px 1px);clip: rect(1px, 1px, 1px, 1px);height: 1px;margin: -1px;overflow: hidden;padding: 0;position: absolute;width: 1px;}#sk-container-id-2 div.sk-estimator {font-family: monospace;background-color: #f0f8ff;border: 1px dotted black;border-radius: 0.25em;box-sizing: border-box;margin-bottom: 0.5em;}#sk-container-id-2 div.sk-estimator:hover {background-color: #d4ebff;}#sk-container-id-2 div.sk-parallel-item::after {content: \"\";width: 100%;border-bottom: 1px solid gray;flex-grow: 1;}#sk-container-id-2 div.sk-label:hover label.sk-toggleable__label {background-color: #d4ebff;}#sk-container-id-2 div.sk-serial::before {content: \"\";position: absolute;border-left: 1px solid gray;box-sizing: border-box;top: 0;bottom: 0;left: 50%;z-index: 0;}#sk-container-id-2 div.sk-serial {display: flex;flex-direction: column;align-items: center;background-color: white;padding-right: 0.2em;padding-left: 0.2em;position: relative;}#sk-container-id-2 div.sk-item {position: relative;z-index: 1;}#sk-container-id-2 div.sk-parallel {display: flex;align-items: stretch;justify-content: center;background-color: white;position: relative;}#sk-container-id-2 div.sk-item::before, #sk-container-id-2 div.sk-parallel-item::before {content: \"\";position: absolute;border-left: 1px solid gray;box-sizing: border-box;top: 0;bottom: 0;left: 50%;z-index: -1;}#sk-container-id-2 div.sk-parallel-item {display: flex;flex-direction: column;z-index: 1;position: relative;background-color: white;}#sk-container-id-2 div.sk-parallel-item:first-child::after {align-self: flex-end;width: 50%;}#sk-container-id-2 div.sk-parallel-item:last-child::after {align-self: flex-start;width: 50%;}#sk-container-id-2 div.sk-parallel-item:only-child::after {width: 0;}#sk-container-id-2 div.sk-dashed-wrapped {border: 1px dashed gray;margin: 0 0.4em 0.5em 0.4em;box-sizing: border-box;padding-bottom: 0.4em;background-color: white;}#sk-container-id-2 div.sk-label label {font-family: monospace;font-weight: bold;display: inline-block;line-height: 1.2em;}#sk-container-id-2 div.sk-label-container {text-align: center;}#sk-container-id-2 div.sk-container {/* jupyter's `normalize.less` sets `[hidden] { display: none; }` but bootstrap.min.css set `[hidden] { display: none !important; }` so we also need the `!important` here to be able to override the default hidden behavior on the sphinx rendered scikit-learn.org. See: https://github.com/scikit-learn/scikit-learn/issues/21755 */display: inline-block !important;position: relative;}#sk-container-id-2 div.sk-text-repr-fallback {display: none;}</style><div id=\"sk-container-id-2\" class=\"sk-top-container\"><div class=\"sk-text-repr-fallback\"><pre>RandomForestClassifier(class_weight=&#x27;balanced&#x27;, random_state=42)</pre><b>In a Jupyter environment, please rerun this cell to show the HTML representation or trust the notebook. <br />On GitHub, the HTML representation is unable to render, please try loading this page with nbviewer.org.</b></div><div class=\"sk-container\" hidden><div class=\"sk-item\"><div class=\"sk-estimator sk-toggleable\"><input class=\"sk-toggleable__control sk-hidden--visually\" id=\"sk-estimator-id-2\" type=\"checkbox\" checked><label for=\"sk-estimator-id-2\" class=\"sk-toggleable__label sk-toggleable__label-arrow\">RandomForestClassifier</label><div class=\"sk-toggleable__content\"><pre>RandomForestClassifier(class_weight=&#x27;balanced&#x27;, random_state=42)</pre></div></div></div></div></div>"
      ],
      "text/plain": [
       "RandomForestClassifier(class_weight='balanced', random_state=42)"
      ]
     },
     "execution_count": 201,
     "metadata": {},
     "output_type": "execute_result"
    }
   ],
   "source": [
    "features = [\"size_x\", \"size_y\", \"size_z\", \"vel_x\", \"vel_y\", \"points_n\"]\n",
    "data_not_misc = data[data[\"label\"] != \"LABEL_MISC\"]\n",
    "grouped_data = data_not_misc.groupby(\"id\")\n",
    "\n",
    "# Select the mode of the label for each group\n",
    "targets = [gp[\"label\"].mode().values[0] for _, gp in grouped_data]\n",
    "dataset = pd.concat(\n",
    "    [pd.DataFrame(gp[features].mean(axis=0).values.reshape(1, -1)) for _, gp in grouped_data], \n",
    "    ignore_index=True)\n",
    "dataset['target_label'] = targets\n",
    "\n",
    "X = dataset.values[:,:6]  # selecting features (first 6 columns)\n",
    "y = dataset['target_label']  \n",
    "\n",
    "# encoding labels\n",
    "label_encoder = LabelEncoder()\n",
    "y_encoded = label_encoder.fit_transform(y)\n",
    "# we use class weight parameter and stratified_Kfold validation in order to handle imbalanced target labels\n",
    "model = RandomForestClassifier(class_weight='balanced', random_state=42)\n",
    "stratified_kfold = StratifiedKFold(n_splits=5, shuffle=True, random_state=42)\n",
    "y_prob = np.zeros((y_encoded.shape[0], len(np.unique(y_encoded))))\n",
    "for train_idx, test_idx in stratified_kfold.split(X, y_encoded):\n",
    "    model.fit(X[train_idx], y_encoded[train_idx])\n",
    "    y_prob[test_idx] = model.predict_proba(X[test_idx])\n",
    "\n",
    "\n",
    "auc_roc = roc_auc_score(y_encoded, y_prob, multi_class='ovo', average='weighted')\n",
    "print(\"AUC-ROC: {auc_roc}\".format(auc_roc=auc_roc))\n",
    "y_pred = cross_val_predict(model, X, y_encoded, cv=stratified_kfold)\n",
    "\n",
    "cm = confusion_matrix(y_encoded, y_pred)\n",
    "cm_display = ConfusionMatrixDisplay(confusion_matrix=cm, display_labels=label_encoder.classes_)\n",
    "cm_display.plot(cmap=plt.cm.Blues)\n",
    "plt.title(\"confusion Matrix\")\n",
    "plt.show()\n",
    "\n",
    "# retraining on full dataset to be used for prediction\n",
    "model.fit(X, y)"
   ]
  },
  {
   "cell_type": "markdown",
   "id": "2a2c3dd0",
   "metadata": {},
   "source": [
    "### Applying the model to estimate miscellaneous labels"
   ]
  },
  {
   "cell_type": "code",
   "execution_count": 13,
   "id": "17602be1",
   "metadata": {},
   "outputs": [
    {
     "data": {
      "text/plain": [
       "LABEL_CAR          0.60737\n",
       "LABEL_PEDESTRIAN   0.34771\n",
       "LABEL_CYCLIST      0.04492\n",
       "Name: label, dtype: float64"
      ]
     },
     "metadata": {},
     "output_type": "display_data"
    },
    {
     "data": {
      "image/png": "[encoded data removed]",
      "text/plain": [
       "<Figure size 504x216 with 1 Axes>"
      ]
     },
     "metadata": {
      "needs_background": "light"
     },
     "output_type": "display_data"
    },
    {
     "data": {
      "text/plain": [
       "LABEL_PEDESTRIAN    3110\n",
       "LABEL_CYCLIST        305\n",
       "LABEL_CAR             32\n",
       "Name: label, dtype: int64"
      ]
     },
     "metadata": {},
     "output_type": "display_data"
    }
   ],
   "source": [
    "# applying the model on objects whose label is MISC\n",
    "data_misc = data[data[\"label\"] == \"LABEL_MISC\"]\n",
    "data_not_misc = data[data[\"label\"] != \"LABEL_MISC\"]\n",
    "grouped_data = data_misc.groupby(\"id\")\n",
    "\n",
    "# averaging features of the same id accross all timestamps\n",
    "dataset_misc = [(id_, gp[features].mean(axis=0).values.reshape(1, -1)) for id_, gp in grouped_data]\n",
    "list_predictions_misc = [(id_, model.predict(feature_vector)[0]) for id_,feature_vector in dataset_misc]\n",
    "df_predictions_misc = pd.DataFrame(list_predictions_misc,columns=[\"id\",\"label\"])\n",
    "\n",
    "id_to_label = df_predictions_misc.set_index(\"id\")[\"label\"]\n",
    "data[\"label\"] = data[\"id\"].map(id_to_label).combine_first(data[\"label\"])\n",
    "\n",
    "# computing relative frequency of each possible value for label after dealing with misc values\n",
    "label_proportions = data.groupby('id')['label'].value_counts(normalize=True).index    \n",
    "label_proportions = pd.DataFrame(label_proportions.values.tolist(),\n",
    "                                 columns=[\"id\",\"label\"])[\"label\"].value_counts(normalize=True)    \n",
    "display(label_proportions)\n",
    "\n",
    "# creating barcharts for label after imputing misc labels\n",
    "fig, axes = plt.subplots(figsize=(7, 3), sharey=True)\n",
    "label_proportions.plot(kind='bar', color=['skyblue',  'green', 'red'], ax=axes)\n",
    "axes.set_title('Proportion of each label after imputing MISC labels', fontsize=16)\n",
    "axes.set_xlabel('Label', fontsize=14)\n",
    "axes.set_ylabel('Frequency', fontsize=14)\n",
    "axes.tick_params(axis='x', rotation=45)\n",
    "axes.grid(axis='y', linestyle='--', alpha=0.7)\n",
    "plt.show()\n",
    "display(df_predictions_misc[\"label\"].value_counts())"
   ]
  },
  {
   "cell_type": "markdown",
   "id": "55a59ccc",
   "metadata": {},
   "source": [
    "### Insights on predictions\n",
    "**Among 3447 miscellaneous objects, the model predicted 3110 (90%) as pedestrians, 305 as cyclists (8%) and 32 (2%) as cars.**"
   ]
  },
  {
   "cell_type": "code",
   "execution_count": null,
   "id": "87b5e777",
   "metadata": {},
   "outputs": [],
   "source": [
    "#Bucketizing timestamps into 100ms interval buckets\n",
    "data[\"bucketized_timestamp\"] = data['timestamp'].dt.floor('100ms')"
   ]
  },
  {
   "cell_type": "markdown",
   "id": "be549740",
   "metadata": {},
   "source": [
    "# Theoretical Approach for Near Misses Detection\n",
    "Traffic near-miss incidents are dangerous scenarios where potential collisions between vehicles, pedestrians, or other vehicles are narrowly avoided due to driver interventions or timing differences. Analyzing these incidents is critical for enhancing the safety of self-driving vehicles, as the frequency of near misses is directly linked to the likelihood of accidents and fatalities.\n",
    "\n",
    "### 1. Bucketizing timestamps into 100ms interval buckets\n",
    "\n",
    "To deal with near misses, we define an approach that is based on pairwise computation of different objects. In the provided data, we observed that timestamps are not unique for all objects. Thus, we decided to bucketize the timestamps into 100ms intervals. Every observation timestamp will be affected to 100 ms bucket, and if more than one observation for the same object are present in the same bucket, their features should be merged. \n",
    "\n",
    "### 2. Near misses incidents definition\n",
    "One way to detect near misses incidents is to use surrogate safety measures such like Time To Collision (TTC) which is defined as the time between is the time between a predicted collision at current speed and position.\n",
    "Another widley used metric is Post Encroachment Time (PET), defined as the time difference between two road users overlapping at any point. For intersections, where road users regularly cross trajectories, PET is a well-established method for safety evaluation [Weide, 2024](https://essay.utwente.nl/98720/1/van%20der%20Weide_MA_EEMCS.pdf). \n",
    "\n",
    "However, in this project, we will focus on detecting near misses events based on TTC.\n",
    "\n",
    "The proposed approach consists in analyzing for every bucketized timestamp (every 100ms), motions of all pairs of objects that are presented at the intersection (Cars-Pedestrians, Cars-Cyclists, Cars-Cars) and to compute a time to collision measure TTC for each of the pairs and timestamps. Then, some rules are applied to classify the situation as near miss or not. \n",
    "\n",
    "In the next sections, we present how to detect a near miss situation for two objects at a timestamp $t$. However, to have a complete insight on the intersection zone, we should do the same analysis for all pairs of objects at each timestamp.\n",
    "\n",
    "\n",
    "### 3. Motion Analysis of two objects\n",
    "\n",
    "#### Relative position at each bucktized timestamp\n",
    "At each bucketized timestamp $t$, calculate the relative position between the two objects:\n",
    "\n",
    "$$\\Delta x(t) = pos_{x1}(t) - pos_{x2}(t) \\\\ \\Delta y(t) = pos_{y1}(t) - pos_{y2}(t)$$\n",
    "\n",
    "Where:\n",
    "$(pos_{x1}(t), pos_{y1}(t))$ and $(pos_{x2}(t), pos_{y2}(t))$ are the positions of *Object1* and *Object2* at time $t$, respectively.\n",
    "\n",
    "#### Relative velocity at each bucktized timestamp\n",
    "Similarly, calculate the relative velocity at each bucketized timestamp $t$ using the velocity components\n",
    "\n",
    "$$\\Delta v_x(t) = vel_{x1}(t) - vel_{x2}(t) \\\\ \\Delta v_y(t) = vel_{y1}(t) - vel_{y2}(t)$$ \n",
    "\n",
    "\n",
    "Where:\n",
    "$(vel_{x1}(t), vel_{y1}(t))$ and $(vel_{x2}(t), vel_{y2}(t))$ are the velocities of *Object1* and *Object2* at time $t$, respectively.\n",
    "\n",
    "\n",
    "#### Time to Collision (TTC) at each bucktized timestamp\n",
    "\n",
    "Calculate the **Time to Collision (TTC)** using the relative position and relative velocity at each bucktized timestamp. If the relative velocity is not zero\n",
    ", calculate the TTC as:\n",
    "\n",
    "$$TTC(t) = \\frac{\\text{Distance$_{center-center}$}(t)}{\\text{Relative Velocity}(t)}$$\n",
    "\n",
    "Where:\n",
    "- **Distance$_{center-center}$** is the Euclidean distance between the two objects positions at time $t$:\n",
    "  $$\\text{Distance$_{center-center}$}(t) = \\sqrt{(\\Delta x(t))^2 + (\\Delta y(t))^2}$$\n",
    "  \n",
    "  \n",
    "- **Relative Velocity** is the magnitude of the relative velocity:\n",
    "  $$\\text{Relative Velocity}(t) = \\sqrt{(\\Delta v_x(t))^2 + (\\Delta v_y(t))^2}$$\n",
    "  \n",
    "\n",
    "### 4. Detection of Near Misses Based on Distance and TTC\n",
    "\n",
    "After calculating the TTC at each time step, the following criteria is used to classify near misses:\n",
    "\n",
    "#### Near Miss Criteria\n",
    "- If the predicted distance between the two objects (based on current positions and velocities) is below a certain threshold  $d_{\\text{critical}}$ and the TTC is below a 2 seconds, it’s considered a near miss.\n",
    "\n",
    "$$\n",
    "\\text{If } \\text{Distance$_{edge-edge}$}(t) < d_{\\text{critical}} \\quad \\text{ and } \\quad TTC(t) \\leq 2  \\quad \\text{,then classify this as a near miss}\n",
    "$$\n",
    "\n",
    "\n",
    "#### Time to Collision (TTC) Range\n",
    "The TTC threshold of 2 seconds is considered to include **high** ($TTC \\leq 0.5$) and **intermediate** ($0.5 \\leq TTC \\leq 2$) collision risks, thus we classify those two situations as near misses [Weide, 2024](https://essay.utwente.nl/98720/1/van%20der%20Weide_MA_EEMCS.pdf) [Kataoka et al., 2018](https://arxiv.org/pdf/1804.02555).\n",
    "* $TTC \\leq 0.5 s$ $\\longrightarrow$ <span style=\"color:red\">high risk (**near miss**)</span> \n",
    "* $0.5 s < TTC \\leq 2 s$ $\\longrightarrow$ <span style=\"color:orange\">intermediate risk  (**near miss**)</span> \n",
    "* $TTC  >2 s$ $\\longrightarrow$ <span style=\"color:green\">low risk</span> \n",
    "\n",
    "\n",
    "#### Critical Distance $(d_{\\text{critical}})$\n",
    "- This detection process should be take into consideration the objects sizes. To simplify we consider only 2D objects so we only (size_x and size_y), thus all objects are considered as rectangles with center (pos_x,pos_y) and sizes (size_x, size_y).\n",
    "\n",
    "The critical distance $(d_{\\text{critical}})$ is set to **1 meter** for all types of objects (cars, pedestrians, cyclists). In the context where the two objects could be:\n",
    "\n",
    "* Aligned on the x axis ($yaw_1$ and $yaw_2$ ~ 0, 2$\\pi$ or $\\pi$ AND $pos_{y1}$~$pos_{y2}$) the distance is :\n",
    "$$\\text{Distance$_{edge-edge}$}(t) = \\text{Distance$_{center-center}$}(t) - \\frac{size_{x1}}{2} - \\frac{size_{x2}}{2}$$\n",
    "                       \n",
    "                       \n",
    "* Aligned on the y axis ($yaw_1$ and $yaw_2$ ~ $\\frac{\\pi}{2}$ or $\\frac{3\\pi}{2}$ AND $pos_{x1}$~$pos_{x2}$) the distance is :\n",
    "$$\\text{Distance$_{edge-edge}$}(t) = \\text{Distance$_{center-center}$}(t) - \\frac{size_{y1}}{2} - \\frac{size_{y2}}{2}$$\n",
    "\n",
    "* If the objects are not aligned, the corners of each rectangle should be calculated by including the $yaw$ measure and the rotation matrix\n",
    "\n",
    "\n",
    "$$\n",
    "R(\\text{yaw}) = \n",
    "\\begin{bmatrix}\n",
    "\\cos(\\text{yaw}) & -\\sin(\\text{yaw}) \\\\\n",
    "\\sin(\\text{yaw}) & \\cos(\\text{yaw})\n",
    "\\end{bmatrix}\n",
    "$$\n",
    "\n",
    "\n",
    "\n",
    "$$\n",
    "x_{new} =  x_{old} \\cdot \\cos(\\text{yaw}) - y_{old} \\cdot \\sin(\\text{yaw})\n",
    "$$\n",
    "\n",
    "$$\n",
    "y_{new} = x_{old} \\cdot \\sin(\\text{yaw}) + y_{old} \\cdot \\cos(\\text{yaw})\n",
    "$$\n",
    "\n",
    "where $(x_{old}, y_{old})$ are (pos$_x$+ $\\frac{size_x}{2}$, pos$_y$+ $\\frac{size_y}{2}$) for the top right corner (for example). We should do the same for the three remaining corners.\n",
    "\n",
    "At this stage, we have for each object the x,y coordinates of its 4 corners. The next step is to compute the minimal distance between these two objects. There exists some algorithmes such as \n",
    "\n",
    "\n",
    "### 5. Limitations and Prespectives"
   ]
  },
  {
   "cell_type": "code",
   "execution_count": null,
   "id": "e056879b",
   "metadata": {},
   "outputs": [],
   "source": []
  }
 ],
 "metadata": {
  "kernelspec": {
   "display_name": "Python 3",
   "language": "python",
   "name": "python3"
  },
  "language_info": {
   "codemirror_mode": {
    "name": "ipython",
    "version": 3
   },
   "file_extension": ".py",
   "mimetype": "text/x-python",
   "name": "python",
   "nbconvert_exporter": "python",
   "pygments_lexer": "ipython3",
   "version": "3.8.8"
  }
 },
 "nbformat": 4,
 "nbformat_minor": 5
}
